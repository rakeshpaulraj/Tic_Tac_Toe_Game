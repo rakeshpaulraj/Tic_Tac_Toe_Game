{
 "cells": [
  {
   "cell_type": "markdown",
   "metadata": {},
   "source": [
    "# Tic Tac Toe game code"
   ]
  },
  {
   "cell_type": "markdown",
   "metadata": {},
   "source": [
    "### Following function intializes the values for a new game "
   ]
  },
  {
   "cell_type": "code",
   "execution_count": 1,
   "metadata": {},
   "outputs": [],
   "source": [
    "###################################################################################################\n",
    "## Following function intializes the values for a new game \n",
    "###################################################################################################\n",
    "def initialize():\n",
    "    global board, count, player, marker1, marker2, exitgame, error, replay, gameover\n",
    "    board = ['-'] * 9\n",
    "    count = 1\n",
    "    marker1 = 'x'\n",
    "    marker2 = 'o'  \n",
    "    exitgame = False\n",
    "    error = False\n",
    "    replay = False\n",
    "    gameover = False\n",
    "    displayboard(board)"
   ]
  },
  {
   "cell_type": "markdown",
   "metadata": {},
   "source": [
    "### Following function displays the title of game "
   ]
  },
  {
   "cell_type": "code",
   "execution_count": 2,
   "metadata": {},
   "outputs": [],
   "source": [
    "###################################################################################################\n",
    "## Following function displays the title of game \n",
    "###################################################################################################\n",
    "def displaytitle():\n",
    "    print('\\n')\n",
    "    print('*********************************************************'.center(80))\n",
    "    print('TIC TAC TOE GAME'.center(80))\n",
    "    print('*********************************************************\\n'.center(80))\n",
    "    print('Welcome to Tic Tac Toe game!'.center(80))\n",
    "    print('(Player-1 is denoted by x and Player-2 is denoted by o)\\n'.center(80))"
   ]
  },
  {
   "cell_type": "markdown",
   "metadata": {},
   "source": [
    "### Following function gets input for board position "
   ]
  },
  {
   "cell_type": "code",
   "execution_count": 3,
   "metadata": {},
   "outputs": [],
   "source": [
    "###################################################################################################\n",
    "## Following function gets input for board position \n",
    "###################################################################################################\n",
    "def getinput(player):\n",
    "    board_position = input(player + \" : Please enter a number between 1 to 9 for the board position (or enter 0 to quit) : \")\n",
    "    return board_position"
   ]
  },
  {
   "cell_type": "markdown",
   "metadata": {},
   "source": [
    "### Following function checks whether the player wants to exit the game or not"
   ]
  },
  {
   "cell_type": "code",
   "execution_count": 4,
   "metadata": {},
   "outputs": [],
   "source": [
    "###################################################################################################\n",
    "## Following function checks whether the player wants to exit the game or not\n",
    "###################################################################################################\n",
    "def checkexit(board_position):\n",
    "    if board_position == '0':\n",
    "        exitgame = True\n",
    "        print(\"Current game terminated!\")\n",
    "        return exitgame"
   ]
  },
  {
   "cell_type": "markdown",
   "metadata": {},
   "source": [
    "### Following function validates the board position input and returns if any error found"
   ]
  },
  {
   "cell_type": "code",
   "execution_count": 5,
   "metadata": {},
   "outputs": [],
   "source": [
    "###################################################################################################\n",
    "## Following function validates the board position input and returns if any error found\n",
    "###################################################################################################\n",
    "def validateinput(board_position):\n",
    "    error = False           \n",
    "    if not board_position.isdigit():\n",
    "        print(\"**Error : \" + board_position + \" is not an integer. Please enter a valid integer between 1 to 9.\")\n",
    "        error = True\n",
    "            \n",
    "    elif int(board_position) > 9:\n",
    "        print(\"**Error : Board has only 9 positions. Please enter an integer between 1 to 9.\")\n",
    "        error = True \n",
    "            \n",
    "    elif board[int(board_position) - 1] != '-':\n",
    "        print(\"**Error : Number \" + str(board_position) + \" you entered is already used. Please enter another number.\")\n",
    "        error = True   \n",
    "        \n",
    "    return error"
   ]
  },
  {
   "cell_type": "markdown",
   "metadata": {},
   "source": [
    "### Following function checks the result of the board and returns whether player won the game or not "
   ]
  },
  {
   "cell_type": "code",
   "execution_count": 6,
   "metadata": {},
   "outputs": [],
   "source": [
    "def updateboard(board, board_position, player):\n",
    "    board_position = int(board_position)\n",
    "    if player == 'PLAYER-1':\n",
    "        board[board_position - 1] = marker1\n",
    "    else:\n",
    "        board[board_position - 1] = marker2"
   ]
  },
  {
   "cell_type": "code",
   "execution_count": 7,
   "metadata": {},
   "outputs": [],
   "source": [
    "###################################################################################################\n",
    "# Following function checks the result of the board and returns whether player won the game or not \n",
    "###################################################################################################\n",
    "def checkresult(board):\n",
    "    result = ''\n",
    "    if (board[0] == board[1] == board[2] == marker1) or (board[0] == board[3] == board[6] == marker1) \\\n",
    "    or (board[6] == board[7] == board[8] == marker1) or (board[2] == board[5] == board[8] == marker1) \\\n",
    "    or (board[1] == board[4] == board[7] == marker1) or (board[3] == board[4] == board[5] == marker1) \\\n",
    "    or (board[0] == board[4] == board[8] == marker1) or (board[ 2] == board[4] == board[6] == marker1):\n",
    "        print(\"Player-1 is the winner!\".center(50))\n",
    "        result = 'win'\n",
    "    elif (board[0] == board[1] == board[2] == marker2) or (board[0] == board[3] == board[6] == marker2) \\\n",
    "    or (board[6] == board[7] == board[8] == marker2) or (board[2] == board[5] == board[8] == marker2) \\\n",
    "    or (board[1] == board[4] == board[7] == marker2) or (board[3] == board[4] == board[5] == marker2) \\\n",
    "    or (board[0] == board[4] == board[8] == marker2) or (board[2] == board[4] == board[6] == marker2):\n",
    "        print(\"Player-2 is the winner!\".center(50))\n",
    "        result = 'win' \n",
    "    elif len([i for i in board if i == '-']) == 0:\n",
    "        print(\"Game tied!\".center(50))\n",
    "        result = 'tie'\n",
    "    return result"
   ]
  },
  {
   "cell_type": "markdown",
   "metadata": {},
   "source": [
    "### Following function clears the output and displays the board with updated player positions"
   ]
  },
  {
   "cell_type": "code",
   "execution_count": 8,
   "metadata": {},
   "outputs": [],
   "source": [
    "from IPython.display import clear_output\n",
    "###################################################################################################\n",
    "# Following function clears the output and displays the board with updated player positions\n",
    "###################################################################################################\n",
    "def displayboard(board):\n",
    "    clear_output() \n",
    "    displaytitle()\n",
    "    a = ''\n",
    "    for i in range(9):\n",
    "        if i == 0:\n",
    "            print('============='.center(80))\n",
    "        a = a + '| ' + board[i] + ' '\n",
    "        if (i + 1)%3 == 0:    \n",
    "            print((a + '|').center(80))\n",
    "            a = ''\n",
    "        if i == 8:\n",
    "            print('============='.center(80))\n",
    "    print('\\n')"
   ]
  },
  {
   "cell_type": "markdown",
   "metadata": {},
   "source": [
    "### Following function checks with the user whether they want to replay the game or not"
   ]
  },
  {
   "cell_type": "code",
   "execution_count": 9,
   "metadata": {},
   "outputs": [],
   "source": [
    "def checkreplay():\n",
    "    replaygame = input(\"Do you want to play again? Enter Yes or No: \").lower()\n",
    "    return replaygame\n",
    "\n",
    "#def getreplay():\n",
    "#    replaygame = input(\"Do you want to play again? : \")\n",
    "#    return replaygame"
   ]
  },
  {
   "cell_type": "markdown",
   "metadata": {},
   "source": [
    "### Main While loop"
   ]
  },
  {
   "cell_type": "code",
   "execution_count": null,
   "metadata": {},
   "outputs": [
    {
     "name": "stdout",
     "output_type": "stream",
     "text": [
      "\n",
      "\n",
      "           *********************************************************            \n",
      "                                TIC TAC TOE GAME                                \n",
      "           *********************************************************\n",
      "           \n",
      "                          Welcome to Tic Tac Toe game!                          \n",
      "            (Player-1 is denoted by x and Player-2 is denoted by o)\n",
      "            \n",
      "                                 =============                                  \n",
      "                                 | x | o | x |                                  \n",
      "                                 | o | o | o |                                  \n",
      "                                 | - | x | x |                                  \n",
      "                                 =============                                  \n",
      "\n",
      "\n",
      "             Player-2 is the winner!              \n"
     ]
    }
   ],
   "source": [
    "### Main While loop\n",
    "###################################################################################################\n",
    "\n",
    "while True:\n",
    "    initialize()\n",
    "\n",
    "    while not exitgame and not gameover:\n",
    "        \n",
    "        ## Determine the player for current iteration. Turns 1, 3, 5, 7, 9 are for Player 1 and rest for Player 2\n",
    "        if count%2 != 0:\n",
    "            player = 'PLAYER-1'  \n",
    "        else:\n",
    "            player = 'PLAYER-2'\n",
    "\n",
    "        ## get input from player\n",
    "        board_position = getinput(player)\n",
    "        \n",
    "        ## check if player wants to exit game\n",
    "        exitgame = checkexit(board_position)\n",
    "        if exitgame:\n",
    "            break\n",
    "\n",
    "        ## Validate the inputs and if any error skip the iteration and get the input again\n",
    "        error = validateinput(board_position)\n",
    "        if error:\n",
    "            continue\n",
    "       \n",
    "        ## Update the board with the new positions\n",
    "        updateboard(board, board_position, player)\n",
    "        \n",
    "        ## Display the board\n",
    "        displayboard(board)\n",
    "        count += 1\n",
    "\n",
    "        ## Check win or tie result\n",
    "        result = checkresult(board)\n",
    "        if result == 'win' or result == 'tie':\n",
    "            gameover = True\n",
    "\n",
    "    replaygame = checkreplay()\n",
    "    if not replaygame == 'yes':\n",
    "        print(\"Thanks for playing!\")\n",
    "        break\n",
    "        "
   ]
  }
 ],
 "metadata": {
  "anaconda-cloud": {},
  "kernelspec": {
   "display_name": "Python 3",
   "language": "python",
   "name": "python3"
  },
  "language_info": {
   "codemirror_mode": {
    "name": "ipython",
    "version": 3
   },
   "file_extension": ".py",
   "mimetype": "text/x-python",
   "name": "python",
   "nbconvert_exporter": "python",
   "pygments_lexer": "ipython3",
   "version": "3.7.3"
  }
 },
 "nbformat": 4,
 "nbformat_minor": 4
}
